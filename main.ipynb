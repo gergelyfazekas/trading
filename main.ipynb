{
 "cells": [
  {
   "cell_type": "markdown",
   "id": "114dcc1e",
   "metadata": {},
   "source": [
    "## Validating the model's performance on user specified stocks and date range"
   ]
  },
  {
   "cell_type": "code",
   "execution_count": 1,
   "id": "2d38ff69",
   "metadata": {},
   "outputs": [],
   "source": [
    "import neat\n",
    "import pandas as pd\n",
    "import numpy as np\n",
    "import datetime\n",
    "import brain\n",
    "import pickle\n",
    "from stock_class import Stock\n",
    "from portfolio_class import Portfolio\n",
    "import random\n",
    "import pprint\n",
    "import matplotlib.pyplot as plt"
   ]
  },
  {
   "cell_type": "markdown",
   "id": "e785a988",
   "metadata": {},
   "source": [
    "### Load historical datasets"
   ]
  },
  {
   "cell_type": "code",
   "execution_count": 2,
   "id": "77641d29",
   "metadata": {},
   "outputs": [],
   "source": [
    "with open(\"validation.pickle\", \"rb\") as f:\n",
    "        validation = pickle.load(f)\n",
    "    \n",
    "with open(\"spy.pickle\", \"rb\") as f:\n",
    "        spy = pickle.load(f)"
   ]
  },
  {
   "cell_type": "markdown",
   "id": "1c5ae260",
   "metadata": {},
   "source": [
    "### Selecting a subset of stocks and a date range"
   ]
  },
  {
   "cell_type": "code",
   "execution_count": 3,
   "id": "9cfc7bec",
   "metadata": {},
   "outputs": [
    {
     "name": "stdout",
     "output_type": "stream",
     "text": [
      "Selected stocks that will be considered for trading between 2022-07-16 -- 2022-10-15 are: \n",
      " \n",
      "['VRTV', 'PASG', 'MCFT', 'BH', 'CVAC', 'UHAL', 'SOI', 'RPRX', 'BNL', 'PEN', 'UPST', 'WRK',\n",
      " 'BEAM', 'VRTV', 'GRPN', 'VOXX', 'TERN', 'BBSI', 'AGR', 'TRNO', 'RUN', 'PDI', 'SPNT',\n",
      " 'NDLS', 'TBNK', 'CDLX', 'PUBM', 'RNG', 'DSP', 'ZG', 'GBDC', 'UPST', 'VOR', 'ALGM',\n",
      " 'SSYS', 'VIR', 'CC', 'ARCC', 'CD', 'AKRO']\n"
     ]
    }
   ],
   "source": [
    "# Set a start date (2022-5-16 is the earliest available in the validation dataframe)\n",
    "start_date = datetime.date(2022,7,16)\n",
    "# Set an end date (2022-10-24 is the latest available in the validation dataframe)\n",
    "end_date = datetime.date(2022,10,15)\n",
    "# Set how many stocks to consider for buying/selling every day\n",
    "num_selected = 40\n",
    "\n",
    "# Set starting cash\n",
    "cash = 1000\n",
    "\n",
    "# Random sample num_selected amount from the available stocks in the dataset\n",
    "stocks_in_the_dataset = validation['ticker'].unique()\n",
    "subset_of_stocks = random.choices(stocks_in_the_dataset, k=num_selected)\n",
    "pp = pprint.PrettyPrinter(width=90, compact=True)\n",
    "print(f'Selected stocks that will be considered for trading between {start_date} -- {end_date} are: ')\n",
    "print(\" \")\n",
    "pp.pprint(subset_of_stocks)"
   ]
  },
  {
   "cell_type": "markdown",
   "id": "b8a43449",
   "metadata": {},
   "source": [
    "### Filter the requested stocks and dates"
   ]
  },
  {
   "cell_type": "code",
   "execution_count": 4,
   "id": "fedf07ff",
   "metadata": {},
   "outputs": [
    {
     "data": {
      "text/html": [
       "<div>\n",
       "<style scoped>\n",
       "    .dataframe tbody tr th:only-of-type {\n",
       "        vertical-align: middle;\n",
       "    }\n",
       "\n",
       "    .dataframe tbody tr th {\n",
       "        vertical-align: top;\n",
       "    }\n",
       "\n",
       "    .dataframe thead th {\n",
       "        text-align: right;\n",
       "    }\n",
       "</style>\n",
       "<table border=\"1\" class=\"dataframe\">\n",
       "  <thead>\n",
       "    <tr style=\"text-align: right;\">\n",
       "      <th></th>\n",
       "      <th>close</th>\n",
       "      <th>volume</th>\n",
       "      <th>ticker</th>\n",
       "      <th>sector</th>\n",
       "      <th>sma_9</th>\n",
       "      <th>sma_14</th>\n",
       "      <th>sma_20</th>\n",
       "      <th>sma_50</th>\n",
       "      <th>sma_100</th>\n",
       "      <th>sma_200</th>\n",
       "      <th>...</th>\n",
       "      <th>Communication Services</th>\n",
       "      <th>Consumer Cyclical</th>\n",
       "      <th>Consumer Defensive</th>\n",
       "      <th>Energy</th>\n",
       "      <th>Financial Services</th>\n",
       "      <th>Healthcare</th>\n",
       "      <th>Industrials</th>\n",
       "      <th>Real Estate</th>\n",
       "      <th>Technology</th>\n",
       "      <th>Utilities</th>\n",
       "    </tr>\n",
       "  </thead>\n",
       "  <tbody>\n",
       "    <tr>\n",
       "      <th>2022-07-18</th>\n",
       "      <td>121.050003</td>\n",
       "      <td>322900.0</td>\n",
       "      <td>PEN</td>\n",
       "      <td>Healthcare</td>\n",
       "      <td>126.363331</td>\n",
       "      <td>126.628570</td>\n",
       "      <td>126.471999</td>\n",
       "      <td>134.123201</td>\n",
       "      <td>169.04910</td>\n",
       "      <td>210.948000</td>\n",
       "      <td>...</td>\n",
       "      <td>0</td>\n",
       "      <td>0</td>\n",
       "      <td>0</td>\n",
       "      <td>0</td>\n",
       "      <td>0</td>\n",
       "      <td>1</td>\n",
       "      <td>0</td>\n",
       "      <td>0</td>\n",
       "      <td>0</td>\n",
       "      <td>0</td>\n",
       "    </tr>\n",
       "    <tr>\n",
       "      <th>2022-07-18</th>\n",
       "      <td>15.150000</td>\n",
       "      <td>756700.0</td>\n",
       "      <td>PUBM</td>\n",
       "      <td>Technology</td>\n",
       "      <td>15.933333</td>\n",
       "      <td>16.045714</td>\n",
       "      <td>16.655000</td>\n",
       "      <td>18.726600</td>\n",
       "      <td>21.55350</td>\n",
       "      <td>26.019100</td>\n",
       "      <td>...</td>\n",
       "      <td>0</td>\n",
       "      <td>0</td>\n",
       "      <td>0</td>\n",
       "      <td>0</td>\n",
       "      <td>0</td>\n",
       "      <td>0</td>\n",
       "      <td>0</td>\n",
       "      <td>0</td>\n",
       "      <td>1</td>\n",
       "      <td>0</td>\n",
       "    </tr>\n",
       "    <tr>\n",
       "      <th>2022-07-18</th>\n",
       "      <td>2.160000</td>\n",
       "      <td>177900.0</td>\n",
       "      <td>PASG</td>\n",
       "      <td>Healthcare</td>\n",
       "      <td>2.333333</td>\n",
       "      <td>2.351429</td>\n",
       "      <td>2.382500</td>\n",
       "      <td>2.173000</td>\n",
       "      <td>2.54005</td>\n",
       "      <td>4.793325</td>\n",
       "      <td>...</td>\n",
       "      <td>0</td>\n",
       "      <td>0</td>\n",
       "      <td>0</td>\n",
       "      <td>0</td>\n",
       "      <td>0</td>\n",
       "      <td>1</td>\n",
       "      <td>0</td>\n",
       "      <td>0</td>\n",
       "      <td>0</td>\n",
       "      <td>0</td>\n",
       "    </tr>\n",
       "    <tr>\n",
       "      <th>2022-07-18</th>\n",
       "      <td>11.160000</td>\n",
       "      <td>289200.0</td>\n",
       "      <td>AKRO</td>\n",
       "      <td>Healthcare</td>\n",
       "      <td>11.163333</td>\n",
       "      <td>10.695714</td>\n",
       "      <td>10.789500</td>\n",
       "      <td>9.683000</td>\n",
       "      <td>11.80340</td>\n",
       "      <td>16.474200</td>\n",
       "      <td>...</td>\n",
       "      <td>0</td>\n",
       "      <td>0</td>\n",
       "      <td>0</td>\n",
       "      <td>0</td>\n",
       "      <td>0</td>\n",
       "      <td>1</td>\n",
       "      <td>0</td>\n",
       "      <td>0</td>\n",
       "      <td>0</td>\n",
       "      <td>0</td>\n",
       "    </tr>\n",
       "    <tr>\n",
       "      <th>2022-07-18</th>\n",
       "      <td>18.790001</td>\n",
       "      <td>725900.0</td>\n",
       "      <td>SSYS</td>\n",
       "      <td>Technology</td>\n",
       "      <td>17.741111</td>\n",
       "      <td>18.108572</td>\n",
       "      <td>18.359000</td>\n",
       "      <td>18.470200</td>\n",
       "      <td>20.71490</td>\n",
       "      <td>23.594850</td>\n",
       "      <td>...</td>\n",
       "      <td>0</td>\n",
       "      <td>0</td>\n",
       "      <td>0</td>\n",
       "      <td>0</td>\n",
       "      <td>0</td>\n",
       "      <td>0</td>\n",
       "      <td>0</td>\n",
       "      <td>0</td>\n",
       "      <td>1</td>\n",
       "      <td>0</td>\n",
       "    </tr>\n",
       "  </tbody>\n",
       "</table>\n",
       "<p>5 rows × 87 columns</p>\n",
       "</div>"
      ],
      "text/plain": [
       "                 close    volume ticker      sector       sma_9      sma_14  \\\n",
       "2022-07-18  121.050003  322900.0    PEN  Healthcare  126.363331  126.628570   \n",
       "2022-07-18   15.150000  756700.0   PUBM  Technology   15.933333   16.045714   \n",
       "2022-07-18    2.160000  177900.0   PASG  Healthcare    2.333333    2.351429   \n",
       "2022-07-18   11.160000  289200.0   AKRO  Healthcare   11.163333   10.695714   \n",
       "2022-07-18   18.790001  725900.0   SSYS  Technology   17.741111   18.108572   \n",
       "\n",
       "                sma_20      sma_50    sma_100     sma_200  ...  \\\n",
       "2022-07-18  126.471999  134.123201  169.04910  210.948000  ...   \n",
       "2022-07-18   16.655000   18.726600   21.55350   26.019100  ...   \n",
       "2022-07-18    2.382500    2.173000    2.54005    4.793325  ...   \n",
       "2022-07-18   10.789500    9.683000   11.80340   16.474200  ...   \n",
       "2022-07-18   18.359000   18.470200   20.71490   23.594850  ...   \n",
       "\n",
       "            Communication Services  Consumer Cyclical  Consumer Defensive  \\\n",
       "2022-07-18                       0                  0                   0   \n",
       "2022-07-18                       0                  0                   0   \n",
       "2022-07-18                       0                  0                   0   \n",
       "2022-07-18                       0                  0                   0   \n",
       "2022-07-18                       0                  0                   0   \n",
       "\n",
       "            Energy  Financial Services  Healthcare  Industrials  Real Estate  \\\n",
       "2022-07-18       0                   0           1            0            0   \n",
       "2022-07-18       0                   0           0            0            0   \n",
       "2022-07-18       0                   0           1            0            0   \n",
       "2022-07-18       0                   0           1            0            0   \n",
       "2022-07-18       0                   0           0            0            0   \n",
       "\n",
       "            Technology  Utilities  \n",
       "2022-07-18           0          0  \n",
       "2022-07-18           1          0  \n",
       "2022-07-18           0          0  \n",
       "2022-07-18           0          0  \n",
       "2022-07-18           1          0  \n",
       "\n",
       "[5 rows x 87 columns]"
      ]
     },
     "execution_count": 4,
     "metadata": {},
     "output_type": "execute_result"
    }
   ],
   "source": [
    "df_selected = validation[validation['ticker'].isin(subset_of_stocks) & \n",
    "                             validation['date_'].isin(\n",
    "                                 [item.date() for item in list(pd.date_range(start=start_date, end=end_date))]\n",
    "                             )]\n",
    "df_selected.head(5)"
   ]
  },
  {
   "cell_type": "markdown",
   "id": "d267ff3f",
   "metadata": {},
   "source": [
    "### Define the main loop"
   ]
  },
  {
   "cell_type": "code",
   "execution_count": 5,
   "id": "b6958359",
   "metadata": {},
   "outputs": [],
   "source": [
    "def main(best_genome_name, data, cash):\n",
    "    \n",
    "    with open(best_genome_name, \"rb\") as f:\n",
    "        best_genome = pickle.load(f)\n",
    "    \n",
    "    # Load configuration.\n",
    "    config_file = r'neat_config.txt'\n",
    "\n",
    "    config = neat.Config(neat.DefaultGenome, neat.DefaultReproduction,\n",
    "                         neat.DefaultSpeciesSet, neat.DefaultStagnation,\n",
    "                         config_file)\n",
    "\n",
    "    # X_cols and portfolio_attributes\n",
    "    X_cols = ['cat_1', 'cat_2', 'cat_3', 'Basic Materials', 'Communication Services',\n",
    "              'Consumer Cyclical', 'Consumer Defensive', 'Energy',\n",
    "              'Financial Services', 'Healthcare', 'Industrials', 'Real Estate',\n",
    "              'Technology', 'Utilities', 'variance_100', 'variance_global']\n",
    "    portfolio_attributes = [\"proportion_invested\", \"entropy_stock\", \"entropy_sector\"]\n",
    "\n",
    "    # preprocessing\n",
    "    training_data = data.copy()\n",
    "    brain.shape_config_file(config_file, X_cols, portfolio_attributes)\n",
    "    X_cols = [col.lower() for col in X_cols]\n",
    "    \n",
    "    threshold = 0.05\n",
    "\n",
    "    # create 1-member population\n",
    "    p = neat.Population(config)\n",
    "    p.population = {1: best_genome}\n",
    "\n",
    "    # clear and set Stocks\n",
    "    Stock.clear_stock_list()\n",
    "    Stock.set_each(training_data)\n",
    "\n",
    "    # same loop as in brain.run_neat\n",
    "    for genome_id, genome in p.population.items():\n",
    "        genome.fitness = 0\n",
    "        genome_portfolio = Portfolio(genome=genome, cash=cash)\n",
    "        net = neat.nn.FeedForwardNetwork.create(genome, config)\n",
    "        for current_date in training_data.index.unique():\n",
    "\n",
    "            # shuffle\n",
    "            random.shuffle(Stock.stock_list)\n",
    "            for stock in Stock.stock_list:\n",
    "                try:\n",
    "                    df = stock.data.loc[current_date, X_cols]\n",
    "                    for item in portfolio_attributes:\n",
    "                        df[item] = genome_portfolio.__getattribute__(item)\n",
    "                except KeyError:\n",
    "                    continue\n",
    "                output = net.activate(list(df))\n",
    "                decision, proportion = brain.output_to_decision(output[0], threshold=threshold)\n",
    "                if decision == 'buy':\n",
    "                    amount = (proportion * genome_portfolio.cash_current) / stock.data.loc[current_date, \"close\"]\n",
    "                    genome_portfolio.buy(stock=stock, amount=amount, as_of=current_date)\n",
    "                elif decision == 'sell':\n",
    "                    amount = -1 * (proportion * genome_portfolio.get_stock_amount(stock))\n",
    "                    genome_portfolio.sell(stock=stock, amount=amount, as_of=current_date)\n",
    "                elif not decision:\n",
    "                    pass\n",
    "                else:\n",
    "                    raise NotImplementedError\n",
    "            # End-of-day update\n",
    "            genome_portfolio.update_balance_eod(as_of=current_date)\n",
    "    \n",
    "    print(\"Succesfully simulated trading.\")\n",
    "    return genome, genome_portfolio"
   ]
  },
  {
   "cell_type": "markdown",
   "id": "a11a22db",
   "metadata": {},
   "source": [
    "### Calculate S&P 500 return during the selected period"
   ]
  },
  {
   "cell_type": "code",
   "execution_count": 6,
   "id": "6ea08320",
   "metadata": {},
   "outputs": [
    {
     "name": "stdout",
     "output_type": "stream",
     "text": [
      "S&P500 total return between 2022-07-16 & 2022-10-15: \n",
      "0.9363\n"
     ]
    }
   ],
   "source": [
    "first_close = spy.loc[spy.index.date == df_selected.index[0], \"Close\"]\n",
    "last_close = spy.loc[spy.index.date == df_selected.index[-1], \"Close\"]\n",
    "spy_return = last_close[0] / first_close[0]\n",
    "print(f\"S&P500 total return between {start_date} & {end_date}: \")\n",
    "print(round(spy_return,4))"
   ]
  },
  {
   "cell_type": "markdown",
   "id": "5ca48f11",
   "metadata": {},
   "source": [
    "### Simulate trading"
   ]
  },
  {
   "cell_type": "code",
   "execution_count": null,
   "id": "3f42e275",
   "metadata": {},
   "outputs": [],
   "source": [
    "# Set the best genome\n",
    "best_genome_name = \"best_genome_123.pickle\"\n",
    "\n",
    "# Run main\n",
    "genome, portfolio = main(best_genome_name=best_genome_name, data=df_selected, cash=cash)"
   ]
  },
  {
   "cell_type": "markdown",
   "id": "6dd8d737",
   "metadata": {},
   "source": [
    "### Calculate our startegy's return"
   ]
  },
  {
   "cell_type": "code",
   "execution_count": null,
   "id": "31789873",
   "metadata": {},
   "outputs": [],
   "source": [
    "print(f\"Total return of trading bot between {start_date} & {end_date} only trading selected stocks: \")\n",
    "print(round((portfolio.total_portfolio_value_hist[-1][1] / cash), 4))"
   ]
  },
  {
   "cell_type": "markdown",
   "id": "d805f76f",
   "metadata": {},
   "source": [
    "### Visualize the difference between S&P500 and our trading strategy"
   ]
  },
  {
   "cell_type": "code",
   "execution_count": null,
   "id": "5dd4823e",
   "metadata": {},
   "outputs": [],
   "source": [
    "# Create two separate variables from list of tulples\n",
    "dates = []\n",
    "profits = []\n",
    "for item in portfolio.total_portfolio_value_hist:\n",
    "    dates.append(item[0])\n",
    "    profits.append(item[1])\n",
    "\n",
    "# Calculate the change of S&P500 standardized to match our starting cash    \n",
    "spy_selected = spy[spy.index.isin([item.date() for item in list(pd.date_range(start=start_date, end=end_date))])]\n",
    "spy_selected['Value'] = np.nan\n",
    "spy_selected['Value'][0] = cash\n",
    "for i in range(1,len(spy_selected['Value'])):\n",
    "    spy_selected['Value'][i] = spy_selected['Return'][i] * spy_selected['Value'][i-1]\n",
    "\n",
    "# Create plot\n",
    "plt.figure(figsize=(12,4))\n",
    "plt.title(\"Change of invested value through time\")\n",
    "plt.plot(dates, profits, label=\"Portfolio value\")\n",
    "plt.plot(dates, spy_selected[\"Value\"], label=\"S&P500 value\" )\n",
    "plt.legend()"
   ]
  },
  {
   "cell_type": "markdown",
   "id": "7e5a8ec4",
   "metadata": {},
   "source": [
    "### Final portfolio"
   ]
  },
  {
   "cell_type": "code",
   "execution_count": null,
   "id": "ca7396c1",
   "metadata": {},
   "outputs": [],
   "source": [
    "portfolio.balance.head(portfolio.balance.last_valid_index())"
   ]
  }
 ],
 "metadata": {
  "kernelspec": {
   "display_name": "Python 3 (ipykernel)",
   "language": "python",
   "name": "python3"
  },
  "language_info": {
   "codemirror_mode": {
    "name": "ipython",
    "version": 3
   },
   "file_extension": ".py",
   "mimetype": "text/x-python",
   "name": "python",
   "nbconvert_exporter": "python",
   "pygments_lexer": "ipython3",
   "version": "3.9.7"
  }
 },
 "nbformat": 4,
 "nbformat_minor": 5
}
