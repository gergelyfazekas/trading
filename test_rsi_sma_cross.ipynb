{
 "cells": [
  {
   "cell_type": "code",
   "execution_count": 7,
   "id": "bef141a4",
   "metadata": {},
   "outputs": [],
   "source": [
    "import stock_class\n",
    "import datetime\n",
    "import matplotlib.pyplot as plt\n",
    "import pandas as pd\n",
    "import numpy as np"
   ]
  },
  {
   "cell_type": "code",
   "execution_count": 8,
   "id": "4c7c8ae0",
   "metadata": {},
   "outputs": [],
   "source": [
    "stock = stock_class.Stock(name='AAPL')\n",
    "stock.set_yahoo_pull_start_date(datetime.date(2022,2,1))\n",
    "stock.set_yahoo_pull_end_date(datetime.date(2022,3,24))"
   ]
  },
  {
   "cell_type": "code",
   "execution_count": 14,
   "id": "7ba797ed",
   "metadata": {},
   "outputs": [],
   "source": [
    "df = stock.yahoo_pull_data()"
   ]
  },
  {
   "cell_type": "code",
   "execution_count": 15,
   "id": "76606c6b",
   "metadata": {},
   "outputs": [],
   "source": [
    "stock.set_data(df)"
   ]
  },
  {
   "cell_type": "code",
   "execution_count": null,
   "id": "b35fff00",
   "metadata": {},
   "outputs": [],
   "source": [
    "stock.sma_calc(period=20)"
   ]
  },
  {
   "cell_type": "code",
   "execution_count": null,
   "id": "1f740006",
   "metadata": {},
   "outputs": [],
   "source": [
    "stock.sma_cross(sma_short_days=14, sma_long_days=20)"
   ]
  },
  {
   "cell_type": "code",
   "execution_count": null,
   "id": "fcee872f",
   "metadata": {},
   "outputs": [],
   "source": [
    "stock.rsi_calc(lookback=14)"
   ]
  },
  {
   "cell_type": "code",
   "execution_count": null,
   "id": "dd41dca6",
   "metadata": {
    "scrolled": true
   },
   "outputs": [],
   "source": [
    "stock.data"
   ]
  },
  {
   "cell_type": "code",
   "execution_count": null,
   "id": "881c929e",
   "metadata": {},
   "outputs": [],
   "source": [
    "plt.figure()\n",
    "stock.data.sma_14.plot()\n",
    "plt.axvline('2007-02-23')\n",
    "plt.axvline('2007-02-05')"
   ]
  },
  {
   "cell_type": "code",
   "execution_count": null,
   "id": "5a62820b",
   "metadata": {},
   "outputs": [],
   "source": [
    "fig, axes = plt.subplots(nrows=1, ncols=3)\n",
    "vline_date = stock.data.index[np.argmin(stock.data.rsi_14)]\n",
    "plot0 = stock.data.Close.plot(ax=axes[0])\n",
    "plot0.axvline(vline_date)\n",
    "plot1 = stock.data.sma_14.plot(ax=axes[1])\n",
    "plot1.axvline(vline_date)\n",
    "plot2 = stock.data.rsi_14.plot(ax=axes[2])\n",
    "plot2.axvline(vline_date)"
   ]
  },
  {
   "cell_type": "code",
   "execution_count": null,
   "id": "7f791dd7",
   "metadata": {},
   "outputs": [],
   "source": [
    "def rsi_strategy(stock):\n",
    "    stock.data['rsi_buy'] = stock.data.rsi_14.where(stock.data.rsi_14<30,0)\n",
    "    stock.data['rsi_sell'] = stock.data.rsi_14.where(stock.data.rsi_14>70,0)"
   ]
  },
  {
   "cell_type": "code",
   "execution_count": null,
   "id": "7c97e8a8",
   "metadata": {},
   "outputs": [],
   "source": [
    "def profit(stock, strategy):\n",
    "    if len(stock.data.rsi_buy[stock.data.rsi_buy != 0]) != 0:\n",
    "        buy = stock.data.Close[stock.data.rsi_buy == stock.data.rsi_buy[stock.data.rsi_buy != 0][0]]\n",
    "    if len(stock.data.rsi_sell[stock.data.rsi_sell != 0]) == 0:\n",
    "        sell = stock.data.Close[-1]\n",
    "    else:\n",
    "        sell = stock.data.rsi_sell[stock.data.rsi_sell != 0][-1]\n",
    "    print('profit = ',(sell-buy)/buy)"
   ]
  },
  {
   "cell_type": "code",
   "execution_count": null,
   "id": "07274adf",
   "metadata": {},
   "outputs": [],
   "source": [
    "rsi_strategy(stock)"
   ]
  },
  {
   "cell_type": "code",
   "execution_count": null,
   "id": "460434d0",
   "metadata": {},
   "outputs": [],
   "source": [
    "profit(stock,rsi_strategy)"
   ]
  }
 ],
 "metadata": {
  "kernelspec": {
   "display_name": "Python 3 (ipykernel)",
   "language": "python",
   "name": "python3"
  },
  "language_info": {
   "codemirror_mode": {
    "name": "ipython",
    "version": 3
   },
   "file_extension": ".py",
   "mimetype": "text/x-python",
   "name": "python",
   "nbconvert_exporter": "python",
   "pygments_lexer": "ipython3",
   "version": "3.9.7"
  }
 },
 "nbformat": 4,
 "nbformat_minor": 5
}
